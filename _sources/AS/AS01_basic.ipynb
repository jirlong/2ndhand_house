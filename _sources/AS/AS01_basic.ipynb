{
  "cells": [
    {
      "cell_type": "markdown",
      "metadata": {
        "id": "view-in-github",
        "colab_type": "text"
      },
      "source": [
        "<a href=\"https://colab.research.google.com/github/jirlong/2ndhand_house/blob/master/_sources/AS/AS01_basic.ipynb\" target=\"_parent\"><img src=\"https://colab.research.google.com/assets/colab-badge.svg\" alt=\"Open In Colab\"/></a>"
      ]
    },
    {
      "cell_type": "markdown",
      "metadata": {
        "id": "s0PuRbJWNCTe"
      },
      "source": [
        "# AS01: Python Basics"
      ]
    },
    {
      "cell_type": "markdown",
      "metadata": {
        "id": "tXucBlG4NCTf"
      },
      "source": [
        "# PART I: Trivial Question with AI"
      ]
    },
    {
      "cell_type": "markdown",
      "metadata": {
        "id": "sQQyD_YkjNxI"
      },
      "source": [
        "## Q1_1: Converting Fahrenheit to Celsius temperature degree\n",
        "\n",
        "請你寫出轉換攝氏溫度為華氏溫度的Code。並輸出為以下型態\n",
        "例如：（攝氏`tc`溫度等於華氏`tf`溫度減`32`後乘以`5/9`）。\n",
        "請你寫出轉換華氏溫度為攝氏溫度的Code。\n",
        "\n",
        "```\n",
        "Sample output:\n",
        "    tc:  10 \ttf:  50.0\n",
        "```"
      ]
    },
    {
      "cell_type": "code",
      "source": [
        "# prompt: 請描述變數的命名法則\n",
        "\n",
        "# 良好命名\n",
        "customer_name = \"Alice\"\n",
        "order_total = 100.50\n",
        "100.5\n",
        "is_active_user = True\n",
        "\n",
        "# 不良命名\n",
        "cn = \"Alice\"  # 不清楚變數用途\n",
        "x = 100.50   #  沒有描述性\n",
        "a = True    #  沒有描述性\n",
        "\n",
        "for i in range(5):\n",
        "    print(i)\n",
        "\n",
        "alist = [1, 2, 3, 4, 5]\n",
        "for a in alist:\n",
        "    print(a)\n"
      ],
      "metadata": {
        "id": "Ssvte9vpQDnL"
      },
      "execution_count": null,
      "outputs": []
    },
    {
      "cell_type": "code",
      "source": [],
      "metadata": {
        "id": "MiacQKzSQglu"
      },
      "execution_count": null,
      "outputs": []
    },
    {
      "cell_type": "markdown",
      "source": [],
      "metadata": {
        "id": "qelNTW1HQC-k"
      }
    },
    {
      "cell_type": "code",
      "source": [
        "# prompt: solve Q1_1\n",
        "tf = 50.0\n",
        "tc = (tf - 32) * 5 / 9 # assignment =, equal-to: ==\n",
        "print(tf, tc)\n",
        "print(\"華氏: \", tf, \"攝氏: \", tc)\n",
        "print(f\"華氏: {tf}, 攝氏: {tc}\") # Formating output\n",
        "print(f\"tc: {int(tc)}\\ttf: {tf}\") # data type converting: int(), str(), float()\n"
      ],
      "metadata": {
        "id": "40srbKruNSOh",
        "outputId": "a90c896d-d463-460c-c2f2-90e6d20bfd80",
        "colab": {
          "base_uri": "https://localhost:8080/"
        }
      },
      "execution_count": 6,
      "outputs": [
        {
          "output_type": "stream",
          "name": "stdout",
          "text": [
            "50.0 10.0\n",
            "華氏:  50.0 攝氏:  10.0\n",
            "華氏: 50.0, 攝氏: 10.0\n",
            "tc: 10\ttf: 50.0\n"
          ]
        }
      ]
    },
    {
      "cell_type": "code",
      "source": [
        "# prompt: How to covert tc = 10 to tf\n",
        "\n",
        "tc = 10\n",
        "tf = tc * 9 / 5 + 32\n",
        "print(f\"tc: {tc}\\ttf: {tf}\")\n"
      ],
      "metadata": {
        "id": "bfEBQDNKTnef"
      },
      "execution_count": null,
      "outputs": []
    },
    {
      "cell_type": "code",
      "execution_count": null,
      "metadata": {
        "ExecuteTime": {
          "end_time": "2020-03-17T03:19:33.590969Z",
          "start_time": "2020-03-17T03:19:33.588177Z"
        },
        "id": "b0worFEpjNxM"
      },
      "outputs": [],
      "source": [
        "tc = 10\n",
        "# Your code should be here\n",
        "\n"
      ]
    },
    {
      "cell_type": "markdown",
      "metadata": {
        "id": "rIJ-00ieNCTg"
      },
      "source": [
        "## Q1_2: 計算一元二次方程的解\n",
        "\n",
        "**題目描述**：已知一個一元二次方程 \\(ax^2 + bx + c = 0\\)，其中 \\(a = 1, b = -3, c = 2\\)，請寫一個 Python 程式計算它的兩個解。\n",
        "\n",
        "解的公式（注意應該會有兩個答案）： $$x = \\frac{-b \\pm \\sqrt{b^2 - 4ac}}{2a}$$"
      ]
    },
    {
      "cell_type": "code",
      "source": [
        "# prompt: solve Q1_2\n",
        "\n",
        "import math\n",
        "\n",
        "a = 1\n",
        "b = -3\n",
        "c = 2\n",
        "\n",
        "delta = b**2 - 4*a*c\n",
        "\n",
        "# a >= b\n",
        "# a == b\n",
        "# a != b\n",
        "# a <= b\n",
        "# a in alist\n",
        "# key in adict\n",
        "\n",
        "\n",
        "if delta >= 0:\n",
        "    x1 = (-b + math.sqrt(delta)) / (2*a)\n",
        "    x2 = (-b - math.sqrt(delta)) / (2*a)\n",
        "    print(f\"x1: {x1}\")\n",
        "    print(f\"x2: {x2}\")\n",
        "else:\n",
        "    print(\"No real roots\")\n"
      ],
      "metadata": {
        "id": "1ND4jIRnUtDa"
      },
      "execution_count": null,
      "outputs": []
    },
    {
      "cell_type": "code",
      "execution_count": null,
      "metadata": {
        "id": "1lBVsoDfNCTg"
      },
      "outputs": [],
      "source": [
        "import math\n",
        "\n",
        "# 已知 a, b, c\n",
        "a = 1\n",
        "b = -3\n",
        "c = 2\n",
        "\n",
        "# 在這裡寫程式碼計算解\n",
        "\n",
        "# 在這裡輸出解"
      ]
    },
    {
      "cell_type": "markdown",
      "metadata": {
        "id": "wdIBqW7bNCTg"
      },
      "source": [
        "## Q1_3: String as list\n",
        "在Python中，string字串也可以用list的方式來存取。如\n",
        "\n",
        "```python\n",
        "word = \"Pneumonoultramicroscopicsilicovolcanoconiosis\" # 實際上存在的單字\n",
        "print(word[3])\n",
        "```\n",
        "\n",
        "請用dictionary計算該字串中每個字元出現過幾次。\n",
        "```\n",
        "Output:\n",
        "    {'P': 1, 'n': 4, 'e': 1, 'u': 2, 'm': 2, 'o': 9, 'l': 3, 't': 1, 'r': 2, 'a': 2, 'i': 6, 'c': 6, 's': 4, 'p': 1, 'v': 1}\n",
        "```"
      ]
    },
    {
      "cell_type": "code",
      "source": [
        "# prompt: Solve Q1_3\n",
        "\n",
        "word = \"Pneumonoultramicroscopicsilicovolcanoconiosis\"\n",
        "\n",
        "print(word[1])\n",
        "\n",
        "char_counts = {}\n",
        "for char in word:\n",
        "  char_counts[char] = char_counts.get(char, 0) + 1\n",
        "char_counts\n"
      ],
      "metadata": {
        "id": "4rlPG8GuWg3W",
        "outputId": "2cc39e2e-7e36-4ca1-c1b6-4c0202cef92f",
        "colab": {
          "base_uri": "https://localhost:8080/"
        }
      },
      "execution_count": 10,
      "outputs": [
        {
          "output_type": "stream",
          "name": "stdout",
          "text": [
            "n\n"
          ]
        },
        {
          "output_type": "execute_result",
          "data": {
            "text/plain": [
              "{'P': 1,\n",
              " 'n': 4,\n",
              " 'e': 1,\n",
              " 'u': 2,\n",
              " 'm': 2,\n",
              " 'o': 9,\n",
              " 'l': 3,\n",
              " 't': 1,\n",
              " 'r': 2,\n",
              " 'a': 2,\n",
              " 'i': 6,\n",
              " 'c': 6,\n",
              " 's': 4,\n",
              " 'p': 1,\n",
              " 'v': 1}"
            ]
          },
          "metadata": {},
          "execution_count": 10
        }
      ]
    },
    {
      "cell_type": "code",
      "source": [
        "# prompt: 請先用li隨意的一篇英文文章，並計算每個字的出現次數\n",
        "\n",
        "from collections import Counter\n",
        "\n",
        "text = \"\"\"\n",
        "This is a sample text to demonstrate the word count functionality.\n",
        "It will count the occurrences of each word in this text.\n",
        "This is a simple example, but it can be extended to more complex texts.\n",
        "\"\"\"\n",
        "\n",
        "words = text.lower().split()\n",
        "word_counts = Counter(words)\n",
        "\n",
        "words\n",
        "\n",
        "alist  = [\"四季春\", \"紅茶\", \"四季春\", \"抹茶\", \"紅茶\"]\n",
        "adict = {} # dictionary: keyt-to-value pairs, lookup table\n",
        "\n",
        "\n",
        "# 1\n",
        "for a in alist:\n",
        "    if a not in adict:\n",
        "        adict[a] = 0\n",
        "        adict[a] = adict[a] + 1\n",
        "    else:\n",
        "        adict[a] = adict[a] + 1\n",
        "\n",
        "\n",
        "# 2\n",
        "for a in alist:\n",
        "    if a not in adict:\n",
        "        adict[a] = 0\n",
        "    adict[a] = adict[a] + 1\n",
        "\n",
        "# 3\n",
        "for a in alist:\n",
        "    adict[a] = adict.get(a, 0) + 1\n",
        "\n",
        "\n",
        "# 4\n",
        "from collections import Counter\n",
        "adict = Counter(alist)\n",
        "\n",
        "adict\n",
        "\n",
        "# word_counts\n"
      ],
      "metadata": {
        "id": "AVR65MtDXbxg",
        "outputId": "db457a6c-f3be-40f7-b6de-8d7bcd0ebc4c",
        "colab": {
          "base_uri": "https://localhost:8080/"
        }
      },
      "execution_count": 11,
      "outputs": [
        {
          "output_type": "execute_result",
          "data": {
            "text/plain": [
              "Counter({'四季春': 2, '紅茶': 2, '抹茶': 1})"
            ]
          },
          "metadata": {},
          "execution_count": 11
        }
      ]
    },
    {
      "cell_type": "code",
      "execution_count": null,
      "metadata": {
        "id": "FMqLu68UNCTg"
      },
      "outputs": [],
      "source": [
        "cdict = {}\n",
        "word = \"Pneumonoultramicroscopicsilicovolcanoconiosis\"\n",
        "\n",
        "# YOUR CODE SHOULD BE HERE\n",
        "\n",
        "\n",
        "\n",
        "print(cdict)"
      ]
    },
    {
      "cell_type": "markdown",
      "metadata": {
        "id": "jwuy9UfjNCTh"
      },
      "source": [
        "# PART II: Accessing Taipei Bus real time data\n",
        "\n",
        "以下是台北市某線公車的即時資料。資料中主要分為兩大塊，包含該線公車的停靠站以及正在路上跑的公車（通常不只一台）及其位置。請觀察該資料並回答以下問題。\n",
        "\n",
        "HINT: 這些題目其實都可以問AI把答案問出來，但要稍微思考一下，要怎麼印。"
      ]
    },
    {
      "cell_type": "code",
      "execution_count": null,
      "metadata": {
        "id": "33uZu8hLjNxP"
      },
      "outputs": [],
      "source": [
        "import requests\n",
        "import json\n",
        "url = \"https://pda.5284.gov.taipei/MQS/RouteDyna?routeid=11763&nocache=1633009377839\"\n",
        "response = requests.get(url)\n",
        "route = json.loads(response.text)\n",
        "print(type(route))\n",
        "\n",
        "route"
      ]
    },
    {
      "cell_type": "markdown",
      "metadata": {
        "id": "xRX2CL9HNCTh"
      },
      "source": [
        "## Q2_1 Accessing data\n",
        "請列印出你所抓到的資料時間。\n",
        "```\n",
        "Output sample:\n",
        "    2023-09-10 14:03:09\n",
        "```"
      ]
    },
    {
      "cell_type": "code",
      "execution_count": null,
      "metadata": {
        "id": "tps9YN-XNCTh"
      },
      "outputs": [],
      "source": [
        "# YOUR CODE HERE"
      ]
    },
    {
      "cell_type": "markdown",
      "metadata": {
        "id": "8L04auL5jnqa"
      },
      "source": [
        "## Q2_2: Number of bus\n",
        "請問在你所抓的時間點共有幾台公車？提示：你抓的時間和老師抓的時間可能不同，所以答案可能不同，公車數量可能會不同。\n",
        "```\n",
        "Output sample:\n",
        "    2023-09-10 14:03:09 There are  5 buses\n",
        "```"
      ]
    },
    {
      "cell_type": "code",
      "execution_count": null,
      "metadata": {
        "id": "wAb1Cgs5jm2g"
      },
      "outputs": [],
      "source": [
        "# YOUR CODE HERE"
      ]
    },
    {
      "cell_type": "markdown",
      "metadata": {
        "id": "mIhtOHpKNCTh"
      },
      "source": [
        "## Q2_3: 該線公車在該時間點共有幾個停靠站？\n",
        "```\n",
        "Output Sample:\n",
        "    Number of stop:  85\n",
        "```"
      ]
    },
    {
      "cell_type": "code",
      "execution_count": null,
      "metadata": {
        "id": "CqwqE6ImNCTh",
        "outputId": "6b433af2-c6a6-4b91-9c7c-1b9b87ba0e6c"
      },
      "outputs": [
        {
          "name": "stdout",
          "output_type": "stream",
          "text": [
            "Number of stop:  85\n"
          ]
        }
      ],
      "source": [
        "# YOUR CODE HERE"
      ]
    },
    {
      "cell_type": "markdown",
      "metadata": {
        "id": "pL9oa-T3jNxP"
      },
      "source": [
        "##  Q2_4: Print out bus id\n",
        "\n",
        "印出資料抓取時間點的所有公車車牌號碼。\n",
        "```\n",
        "Output sample:\n",
        "    563-FZ\n",
        "    EAL-0102\n",
        "    380-U8\n",
        "    KKA-0668\n",
        "```"
      ]
    },
    {
      "cell_type": "code",
      "execution_count": null,
      "metadata": {
        "id": "Lle4rCIBjNxP",
        "outputId": "879f67b0-1028-48ab-9f73-472cf53abee7"
      },
      "outputs": [
        {
          "name": "stdout",
          "output_type": "stream",
          "text": [
            "563-FZ\n",
            "EAL-0102\n",
            "380-U8\n",
            "KKA-0668\n"
          ]
        }
      ],
      "source": [
        "for bus in route['Bus']:\n",
        "    # YOUR CODE HERE\n",
        "\n",
        ""
      ]
    },
    {
      "cell_type": "code",
      "execution_count": null,
      "metadata": {
        "id": "HLdw8AI7NCTi"
      },
      "outputs": [],
      "source": [
        "## YOUR CODE SHOULD BE HERE\n",
        "\n",
        "\n",
        "\n",
        "\n",
        "\n",
        "\n"
      ]
    },
    {
      "cell_type": "markdown",
      "metadata": {
        "id": "V7IP6J8PNCTi"
      },
      "source": [
        "# PART III: Reviewing with AI\n",
        "\n",
        "你只需要把以下問題拿去AI，把AI告訴你的結果，貼在下方的markdown cell即可。\n",
        "但請你借此練習一下使用markdown，把AI告訴你的結果整理好。"
      ]
    },
    {
      "cell_type": "markdown",
      "metadata": {
        "id": "VsRok598NCTi"
      },
      "source": [
        "## Q3_1: 請用公車的資料說明，何謂List？\n"
      ]
    },
    {
      "cell_type": "markdown",
      "metadata": {
        "id": "irUW_2yuNCTi"
      },
      "source": [
        "\n",
        "## Q3_2: 請用公車的資料說明，何謂Dictionary？"
      ]
    },
    {
      "cell_type": "markdown",
      "metadata": {
        "id": "6SqybcoyNCTi"
      },
      "source": [
        "## Q3_3: 請用公車的資料說明，for-loop的機制與功能？"
      ]
    },
    {
      "cell_type": "markdown",
      "metadata": {
        "id": "ERrIytc5NCTi"
      },
      "source": [
        "## Q3_4: 公車的資料除了以上題目外，你還可以用來做什麼？\n",
        "\n",
        "* HINT 1：不單只考慮一條路線？\n",
        "* HINT 2：可否結合視覺化的功能？\n",
        "* HINT 3：是否可以結合其他資料？\n",
        "* HINT 4：可否動態呈現？\n",
        "* HINT 5：還可以做出什麼應用？"
      ]
    }
  ],
  "metadata": {
    "colab": {
      "name": "AS01_basic.ipynb",
      "provenance": [],
      "include_colab_link": true
    },
    "kernelspec": {
      "display_name": "Python 3 (ipykernel)",
      "language": "python",
      "name": "python3"
    },
    "language_info": {
      "codemirror_mode": {
        "name": "ipython",
        "version": 3
      },
      "file_extension": ".py",
      "mimetype": "text/x-python",
      "name": "python",
      "nbconvert_exporter": "python",
      "pygments_lexer": "ipython3",
      "version": "3.9.16"
    },
    "toc": {
      "base_numbering": 1,
      "nav_menu": {},
      "number_sections": true,
      "sideBar": true,
      "skip_h1_title": false,
      "title_cell": "Table of Contents",
      "title_sidebar": "Contents",
      "toc_cell": false,
      "toc_position": {},
      "toc_section_display": true,
      "toc_window_display": true
    },
    "varInspector": {
      "cols": {
        "lenName": 16,
        "lenType": 16,
        "lenVar": 40
      },
      "kernels_config": {
        "python": {
          "delete_cmd_postfix": "",
          "delete_cmd_prefix": "del ",
          "library": "var_list.py",
          "varRefreshCmd": "print(var_dic_list())"
        },
        "r": {
          "delete_cmd_postfix": ") ",
          "delete_cmd_prefix": "rm(",
          "library": "var_list.r",
          "varRefreshCmd": "cat(var_dic_list()) "
        }
      },
      "types_to_exclude": [
        "module",
        "function",
        "builtin_function_or_method",
        "instance",
        "_Feature"
      ],
      "window_display": false
    }
  },
  "nbformat": 4,
  "nbformat_minor": 0
}